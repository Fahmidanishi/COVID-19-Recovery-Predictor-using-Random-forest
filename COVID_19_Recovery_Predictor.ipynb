{
  "nbformat": 4,
  "nbformat_minor": 0,
  "metadata": {
    "colab": {
      "provenance": [],
      "gpuType": "T4",
      "authorship_tag": "ABX9TyMciOyT+dIdL2raGlCFcoHm",
      "include_colab_link": true
    },
    "kernelspec": {
      "name": "python3",
      "display_name": "Python 3"
    },
    "language_info": {
      "name": "python"
    },
    "accelerator": "GPU"
  },
  "cells": [
    {
      "cell_type": "markdown",
      "metadata": {
        "id": "view-in-github",
        "colab_type": "text"
      },
      "source": [
        "<a href=\"https://colab.research.google.com/github/Fahmidanishi/COVID-19-Recovery-Predictor-using-Random-forest/blob/main/COVID_19_Recovery_Predictor.ipynb\" target=\"_parent\"><img src=\"https://colab.research.google.com/assets/colab-badge.svg\" alt=\"Open In Colab\"/></a>"
      ]
    },
    {
      "cell_type": "code",
      "execution_count": null,
      "metadata": {
        "id": "wWHHCdkUofjf"
      },
      "outputs": [],
      "source": [
        "!pip -q install gradio scikit-learn pandas numpy matplotlib\n",
        "\n",
        "import warnings\n",
        "warnings.filterwarnings(\"ignore\")\n",
        "\n",
        "import numpy as np\n",
        "import pandas as pd\n",
        "import matplotlib.pyplot as plt\n",
        "\n",
        "from sklearn.model_selection import train_test_split\n",
        "from sklearn.compose import ColumnTransformer\n",
        "from sklearn.preprocessing import OneHotEncoder\n",
        "from sklearn.impute import SimpleImputer\n",
        "from sklearn.pipeline import Pipeline\n",
        "from sklearn.ensemble import RandomForestClassifier\n",
        "from sklearn.metrics import (\n",
        "    accuracy_score, precision_score, recall_score, f1_score,\n",
        "    roc_auc_score, confusion_matrix, classification_report\n",
        ")\n",
        "import gradio as gr"
      ]
    },
    {
      "cell_type": "code",
      "source": [
        "CSV_PATH = \"/content/COVID-19_CBC_Data.csv\"\n",
        "RANDOM_STATE = 42\n",
        "TEST_SIZE = 0.2\n",
        "\n",
        "df = pd.read_csv(CSV_PATH)\n",
        "# Clean column names (strip spaces)\n",
        "df.columns = df.columns.str.strip()"
      ],
      "metadata": {
        "id": "VA2ETtFzoiRV"
      },
      "execution_count": null,
      "outputs": []
    },
    {
      "cell_type": "code",
      "source": [
        "# Check missing values\n",
        "df.isnull().sum()\n"
      ],
      "metadata": {
        "colab": {
          "base_uri": "https://localhost:8080/",
          "height": 523
        },
        "id": "nmTqMfWkokAD",
        "outputId": "f5a919cd-ca29-4cab-db3f-627f998a1ff8"
      },
      "execution_count": null,
      "outputs": [
        {
          "output_type": "execute_result",
          "data": {
            "text/plain": [
              "Admission_DATE                       0\n",
              "Discharge_DATE or date of Death      0\n",
              "Outcome                              0\n",
              "Patient Age                          0\n",
              "Gender                               0\n",
              "Sample Collection Date               0\n",
              "What kind of Treatment provided      0\n",
              "Ventilated (Y/N)                     0\n",
              "Red blood cell distribution width    0\n",
              "Monocytes(%)                         0\n",
              "White blood cell count               0\n",
              "Platelet Count                       0\n",
              "Lymphocyte Count                     0\n",
              "Neutrophils Count                    0\n",
              "dtype: int64"
            ],
            "text/html": [
              "<div>\n",
              "<style scoped>\n",
              "    .dataframe tbody tr th:only-of-type {\n",
              "        vertical-align: middle;\n",
              "    }\n",
              "\n",
              "    .dataframe tbody tr th {\n",
              "        vertical-align: top;\n",
              "    }\n",
              "\n",
              "    .dataframe thead th {\n",
              "        text-align: right;\n",
              "    }\n",
              "</style>\n",
              "<table border=\"1\" class=\"dataframe\">\n",
              "  <thead>\n",
              "    <tr style=\"text-align: right;\">\n",
              "      <th></th>\n",
              "      <th>0</th>\n",
              "    </tr>\n",
              "  </thead>\n",
              "  <tbody>\n",
              "    <tr>\n",
              "      <th>Admission_DATE</th>\n",
              "      <td>0</td>\n",
              "    </tr>\n",
              "    <tr>\n",
              "      <th>Discharge_DATE or date of Death</th>\n",
              "      <td>0</td>\n",
              "    </tr>\n",
              "    <tr>\n",
              "      <th>Outcome</th>\n",
              "      <td>0</td>\n",
              "    </tr>\n",
              "    <tr>\n",
              "      <th>Patient Age</th>\n",
              "      <td>0</td>\n",
              "    </tr>\n",
              "    <tr>\n",
              "      <th>Gender</th>\n",
              "      <td>0</td>\n",
              "    </tr>\n",
              "    <tr>\n",
              "      <th>Sample Collection Date</th>\n",
              "      <td>0</td>\n",
              "    </tr>\n",
              "    <tr>\n",
              "      <th>What kind of Treatment provided</th>\n",
              "      <td>0</td>\n",
              "    </tr>\n",
              "    <tr>\n",
              "      <th>Ventilated (Y/N)</th>\n",
              "      <td>0</td>\n",
              "    </tr>\n",
              "    <tr>\n",
              "      <th>Red blood cell distribution width</th>\n",
              "      <td>0</td>\n",
              "    </tr>\n",
              "    <tr>\n",
              "      <th>Monocytes(%)</th>\n",
              "      <td>0</td>\n",
              "    </tr>\n",
              "    <tr>\n",
              "      <th>White blood cell count</th>\n",
              "      <td>0</td>\n",
              "    </tr>\n",
              "    <tr>\n",
              "      <th>Platelet Count</th>\n",
              "      <td>0</td>\n",
              "    </tr>\n",
              "    <tr>\n",
              "      <th>Lymphocyte Count</th>\n",
              "      <td>0</td>\n",
              "    </tr>\n",
              "    <tr>\n",
              "      <th>Neutrophils Count</th>\n",
              "      <td>0</td>\n",
              "    </tr>\n",
              "  </tbody>\n",
              "</table>\n",
              "</div><br><label><b>dtype:</b> int64</label>"
            ]
          },
          "metadata": {},
          "execution_count": 3
        }
      ]
    },
    {
      "cell_type": "code",
      "source": [
        "\n",
        "# Normalize names we’ll use\n",
        "rename_map = {\n",
        "    \"Outcome\": \"outcome\",\n",
        "    \"Patient Age\": \"age\",\n",
        "    \"Gender\": \"gender\",\n",
        "    \"Ventilated (Y/N)\": \"ventilated\",\n",
        "    \"What kind of Treatment provided\": \"treatment\",\n",
        "    \"What kind of Treatment provided \": \"treatment\",\n",
        "    \"Red blood cell distribution width\": \"rdw\",\n",
        "    \"Monocytes(%)\": \"monocytes_pct\",\n",
        "    \"White blood cell count\": \"wbc\",\n",
        "    \"Platelet Count\": \"platelets\",\n",
        "    \"Lymphocyte Count\": \"lymphocytes\",\n",
        "    \"Neutrophils Count\": \"neutrophils\",\n",
        "    # dates (we'll drop for modeling)\n",
        "    \"Admission_DATE\": \"admission_date\",\n",
        "    \"Admission_DATE \": \"admission_date\",\n",
        "    \"Discharge_DATE or date of Death\": \"discharge_or_death_date\",\n",
        "    \"Sample Collection Date\": \"sample_collection_date\",\n",
        "    \"Sample Collection Date \": \"sample_collection_date\",\n",
        "}\n",
        "df = df.rename(columns={k: v for k, v in rename_map.items() if k in df.columns})\n",
        "\n",
        "assert \"outcome\" in df.columns, \"Outcome column not found.\"\n",
        "\n",
        "# Drop irrelevant date cols\n",
        "drop_cols = [c for c in [\"admission_date\",\"discharge_or_death_date\",\"sample_collection_date\"] if c in df.columns]\n",
        "df = df.drop(columns=drop_cols, errors=\"ignore\")\n"
      ],
      "metadata": {
        "id": "fjNcojKlomm3"
      },
      "execution_count": null,
      "outputs": []
    },
    {
      "cell_type": "code",
      "source": [
        "# Feature set\n",
        "candidate_features = [\n",
        "    \"age\",\"gender\",\"ventilated\",\"treatment\",\n",
        "    \"rdw\",\"monocytes_pct\",\"wbc\",\"platelets\",\"lymphocytes\",\"neutrophils\"\n",
        "]\n",
        "FEATURE_COLS = [c for c in candidate_features if c in df.columns]\n",
        "\n",
        "X = df[FEATURE_COLS].copy()\n",
        "y = df[\"outcome\"].astype(str)"
      ],
      "metadata": {
        "id": "_59nFPDYoncy"
      },
      "execution_count": null,
      "outputs": []
    },
    {
      "cell_type": "code",
      "source": [
        "# sanity check\n",
        "print(\"\\n After cleaning:\")\n",
        "print(f\"Rows: {len(df)} | Features used: {FEATURE_COLS}\")\n",
        "print(f\"Classes: {sorted(y.unique().tolist())}\")"
      ],
      "metadata": {
        "colab": {
          "base_uri": "https://localhost:8080/"
        },
        "id": "qdtaQG3copKD",
        "outputId": "1aaa6595-219e-4364-ea2b-14c87a56d5c1"
      },
      "execution_count": null,
      "outputs": [
        {
          "output_type": "stream",
          "name": "stdout",
          "text": [
            "\n",
            " After cleaning:\n",
            "Rows: 103 | Features used: ['age', 'gender', 'ventilated', 'treatment', 'rdw', 'monocytes_pct', 'wbc', 'platelets', 'lymphocytes', 'neutrophils']\n",
            "Classes: ['Not Recovered', 'Recovered']\n"
          ]
        }
      ]
    },
    {
      "cell_type": "code",
      "source": [
        "#  Encode categoricals\n",
        "\n",
        "numeric_cols = X.select_dtypes(include=[np.number]).columns.tolist()\n",
        "categorical_cols = [c for c in FEATURE_COLS if c not in numeric_cols]\n",
        "\n",
        "X_encoded = pd.get_dummies(X, columns=categorical_cols, drop_first=False)\n",
        "MODEL_COLUMNS = X_encoded.columns.tolist()"
      ],
      "metadata": {
        "id": "Y9uTLwsIoq7A"
      },
      "execution_count": null,
      "outputs": []
    },
    {
      "cell_type": "code",
      "source": [
        "#  Train/test split (80/20)\n",
        "\n",
        "X_train, X_test, y_train, y_test = train_test_split(\n",
        "    X_encoded, y, test_size=TEST_SIZE, random_state=RANDOM_STATE, stratify=y\n",
        ")"
      ],
      "metadata": {
        "id": "Sb7M4m85ossY"
      },
      "execution_count": null,
      "outputs": []
    },
    {
      "cell_type": "code",
      "source": [
        "#  Train Random Forest\n",
        "\n",
        "clf = RandomForestClassifier(\n",
        "    n_estimators=300,\n",
        "    random_state=RANDOM_STATE,\n",
        "    n_jobs=-1\n",
        ")\n",
        "clf.fit(X_train, y_train)\n",
        "\n",
        "#  Evaluation\n",
        "\n",
        "y_pred = clf.predict(X_test)\n",
        "print(\"\\n=== Test Metrics ===\")\n",
        "print(f\"Accuracy : {accuracy_score(y_test, y_pred):.4f}\")\n",
        "print(f\"Precision: {precision_score(y_test, y_pred, pos_label='Recovered', zero_division=0):.4f}\")\n",
        "print(f\"Recall   : {recall_score(y_test, y_pred, pos_label='Recovered', zero_division=0):.4f}\")\n",
        "print(f\"F1-score : {f1_score(y_test, y_pred, pos_label='Recovered', zero_division=0):.4f}\")\n",
        "\n",
        "# ROC AUC if 2 classes\n",
        "try:\n",
        "    proba = clf.predict_proba(X_test)\n",
        "    if len(clf.classes_) == 2:\n",
        "        idx = list(clf.classes_).index(\"Recovered\")\n",
        "        y_bin = (y_test == \"Recovered\").astype(int)\n",
        "        print(f\"ROC AUC  : {roc_auc_score(y_bin, proba[:, idx]):.4f}\")\n",
        "except Exception:\n",
        "    pass\n",
        "\n",
        "print(\"\\nClassification Report:\")\n",
        "print(classification_report(y_test, y_pred, zero_division=0, target_names=[\"Not Recovered\",\"Recovered\"]))\n",
        "\n",
        "# Confusion Matrix plot\n",
        "cm = confusion_matrix(y_test, y_pred, labels=[\"Not Recovered\",\"Recovered\"])\n",
        "plt.figure()\n",
        "plt.imshow(cm, interpolation=\"nearest\", cmap=plt.cm.Blues)\n",
        "plt.title(\"Confusion Matrix\")\n",
        "plt.colorbar()\n",
        "plt.xticks([0,1], [\"Not Recovered\",\"Recovered\"])\n",
        "plt.yticks([0,1], [\"Not Recovered\",\"Recovered\"])\n",
        "thresh = cm.max()/2\n",
        "for i in range(cm.shape[0]):\n",
        "    for j in range(cm.shape[1]):\n",
        "        plt.text(j, i, cm[i,j], ha='center', va='center',\n",
        "                 color='white' if cm[i,j] > thresh else 'black')\n",
        "plt.ylabel(\"True label\")\n",
        "plt.xlabel(\"Predicted label\")\n",
        "plt.tight_layout()\n",
        "plt.show()\n"
      ],
      "metadata": {
        "colab": {
          "base_uri": "https://localhost:8080/",
          "height": 799
        },
        "id": "B0XCV72vou7S",
        "outputId": "3107cc8d-7f22-49a7-cfc3-49d680c8041f"
      },
      "execution_count": null,
      "outputs": [
        {
          "output_type": "stream",
          "name": "stdout",
          "text": [
            "\n",
            "=== Test Metrics ===\n",
            "Accuracy : 0.9524\n",
            "Precision: 1.0000\n",
            "Recall   : 0.9167\n",
            "F1-score : 0.9565\n",
            "ROC AUC  : 1.0000\n",
            "\n",
            "Classification Report:\n",
            "               precision    recall  f1-score   support\n",
            "\n",
            "Not Recovered       0.90      1.00      0.95         9\n",
            "    Recovered       1.00      0.92      0.96        12\n",
            "\n",
            "     accuracy                           0.95        21\n",
            "    macro avg       0.95      0.96      0.95        21\n",
            " weighted avg       0.96      0.95      0.95        21\n",
            "\n"
          ]
        },
        {
          "output_type": "display_data",
          "data": {
            "text/plain": [
              "<Figure size 640x480 with 2 Axes>"
            ],
            "image/png": "[encoded data removed]"
          },
          "metadata": {}
        }
      ]
    },
    {
      "cell_type": "code",
      "source": [],
      "metadata": {
        "id": "eNTSBo15oy4V"
      },
      "execution_count": null,
      "outputs": []
    },
    {
      "cell_type": "code",
      "source": [
        "#  Gradio UI — dataset column names as labels\n",
        "\n",
        "\n",
        "num_defaults = {c: float(np.median(X[c])) for c in numeric_cols if c in X.columns}\n",
        "\n",
        "if \"age\" in FEATURE_COLS:\n",
        "    age_min, age_max = float(np.floor(X[\"age\"].min())), float(np.ceil(X[\"age\"].max()))\n",
        "    age_default = float(np.median(X[\"age\"]))\n",
        "else:\n",
        "    age_min, age_max, age_default = 0.0, 100.0, 50.0\n",
        "\n",
        "vent_choices = sorted(df[\"ventilated\"].astype(str).str.strip().unique().tolist()) \\\n",
        "               if \"ventilated\" in FEATURE_COLS and \"ventilated\" in df.columns else None\n",
        "\n",
        "def _align_like_training(single_df: pd.DataFrame) -> pd.DataFrame:\n",
        "    for c in numeric_cols:\n",
        "        if c in single_df.columns:\n",
        "            single_df[c] = pd.to_numeric(single_df[c], errors=\"coerce\")\n",
        "    for c in categorical_cols:\n",
        "        if c in single_df.columns:\n",
        "            single_df[c] = single_df[c].astype(str).str.strip()\n",
        "\n",
        "    present_cats = [c for c in categorical_cols if c in single_df.columns]  #one hot encoding\n",
        "    if present_cats:\n",
        "        single_enc = pd.get_dummies(single_df, columns=present_cats, drop_first=False)\n",
        "    else:\n",
        "        single_enc = single_df.copy()\n",
        "    for col in MODEL_COLUMNS:\n",
        "        if col not in single_enc.columns:\n",
        "            single_enc[col] = 0\n",
        "    single_enc = single_enc[MODEL_COLUMNS]\n",
        "    return single_enc\n",
        "\n",
        "def _safe_num(x, default):\n",
        "    try:\n",
        "        v = float(x)\n",
        "        if not np.isfinite(v): return default\n",
        "        return v\n",
        "    except (TypeError, ValueError):\n",
        "        return default\n",
        "\n",
        "with gr.Blocks(title=\"COVID-19 Recovery Predictor\") as demo:\n",
        "    gr.Markdown(\"<h1 style='text-align:center'>COVID-19 Recovery Predictor</h1>\")\n",
        "    gr.Markdown(\"Enter values from the dataset columns.\")\n",
        "\n",
        "    with gr.Row():\n",
        "        with gr.Column(scale=1):\n",
        "            comps, order = {}, []\n",
        "\n",
        "            if \"age\" in FEATURE_COLS:\n",
        "                comps[\"age\"] = gr.Slider(minimum=age_min, maximum=age_max, step=1,\n",
        "                                         value=age_default, label=\"age\")\n",
        "                order.append(\"age\")\n",
        "            if \"wbc\" in FEATURE_COLS:\n",
        "                comps[\"wbc\"] = gr.Number(label=\"wbc\", value=num_defaults.get(\"wbc\", 0.0)); order.append(\"wbc\")\n",
        "            if \"lymphocytes\" in FEATURE_COLS:\n",
        "                comps[\"lymphocytes\"] = gr.Number(label=\"lymphocytes\", value=num_defaults.get(\"lymphocytes\", 0.0)); order.append(\"lymphocytes\")\n",
        "            if \"neutrophils\" in FEATURE_COLS:\n",
        "                comps[\"neutrophils\"] = gr.Number(label=\"neutrophils\", value=num_defaults.get(\"neutrophils\", 0.0)); order.append(\"neutrophils\")\n",
        "            if \"platelets\" in FEATURE_COLS:\n",
        "                comps[\"platelets\"] = gr.Number(label=\"platelets\", value=num_defaults.get(\"platelets\", 0.0)); order.append(\"platelets\")\n",
        "            if \"rdw\" in FEATURE_COLS:\n",
        "                comps[\"rdw\"] = gr.Number(label=\"rdw\", value=num_defaults.get(\"rdw\", 0.0)); order.append(\"rdw\")\n",
        "            if \"monocytes_pct\" in FEATURE_COLS:\n",
        "                comps[\"monocytes_pct\"] = gr.Number(label=\"monocytes_pct\", value=num_defaults.get(\"monocytes_pct\", 0.0)); order.append(\"monocytes_pct\")\n",
        "            if \"ventilated\" in FEATURE_COLS and vent_choices:\n",
        "                comps[\"ventilated\"] = gr.Dropdown(choices=vent_choices, value=vent_choices[0], label=\"ventilated\")\n",
        "                order.append(\"ventilated\")\n",
        "\n",
        "            submit_btn = gr.Button(\"Submit\", variant=\"primary\")\n",
        "            clear_btn  = gr.Button(\"Clear Output\")\n",
        "\n",
        "        with gr.Column(scale=1):\n",
        "            result = gr.JSON(label=\"Result\")\n",
        "\n",
        "    inputs_list = [comps[n] for n in order]\n",
        "\n",
        "    def predict_dynamic(*vals):\n",
        "        row = {order[i]: vals[i] for i in range(len(order))}\n",
        "        for c in numeric_cols:\n",
        "            if c in row:\n",
        "                row[c] = _safe_num(row[c], num_defaults.get(c, 0.0))\n",
        "        for c in categorical_cols:\n",
        "            if c in row:\n",
        "                row[c] = str(row[c]).strip()\n",
        "        X_new = _align_like_training(pd.DataFrame([row]))\n",
        "        pred = clf.predict(X_new)[0]\n",
        "        conf_rec = None\n",
        "        try:                   #confidence for recovered\n",
        "            probs = clf.predict_proba(X_new)[0]\n",
        "            prob_map = {cls: float(np.round(p, 4)) for cls, p in zip(clf.classes_, probs)}\n",
        "            conf_rec = prob_map.get(\"Recovered\", None)\n",
        "        except Exception:\n",
        "            pass\n",
        "        out = {\"Prediction\": pred}\n",
        "        if conf_rec is not None:\n",
        "            out[\"Confidence_Recovered\"] = conf_rec\n",
        "        return out\n",
        "\n",
        "    submit_btn.click(fn=predict_dynamic, inputs=inputs_list, outputs=result)\n",
        "    clear_btn.click(fn=lambda: {}, outputs=result)\n",
        "\n",
        "demo.launch(share=True)\n"
      ],
      "metadata": {
        "colab": {
          "base_uri": "https://localhost:8080/",
          "height": 590
        },
        "id": "Tkkwl-cjozLE",
        "outputId": "fb2392b3-831b-4f80-ec44-3252bfd07f41"
      },
      "execution_count": null,
      "outputs": [
        {
          "output_type": "stream",
          "name": "stdout",
          "text": [
            "Colab notebook detected. To show errors in colab notebook, set debug=True in launch()\n",
            "* Running on public URL: https://50bc71db356631c067.gradio.live\n",
            "\n",
            "This share link expires in 1 week. For free permanent hosting and GPU upgrades, run `gradio deploy` from the terminal in the working directory to deploy to Hugging Face Spaces (https://huggingface.co/spaces)\n"
          ]
        },
        {
          "output_type": "display_data",
          "data": {
            "text/plain": [
              "<IPython.core.display.HTML object>"
            ],
            "text/html": [
              "<div><iframe src=\"https://50bc71db356631c067.gradio.live\" width=\"100%\" height=\"500\" allow=\"autoplay; camera; microphone; clipboard-read; clipboard-write;\" frameborder=\"0\" allowfullscreen></iframe></div>"
            ]
          },
          "metadata": {}
        },
        {
          "output_type": "execute_result",
          "data": {
            "text/plain": []
          },
          "metadata": {},
          "execution_count": 10
        }
      ]
    }
  ]
}